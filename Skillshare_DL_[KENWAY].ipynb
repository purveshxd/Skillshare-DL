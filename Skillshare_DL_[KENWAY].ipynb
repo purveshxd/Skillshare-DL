{
  "cells": [
    {
      "cell_type": "markdown",
      "metadata": {
        "colab_type": "text",
        "id": "view-in-github"
      },
      "source": [
        "<a href=\"https://colab.research.google.com/github/calvinhobbes23/Skillshare-DL/blob/master/Skillshare_DL_%5BKENWAY%5D.ipynb\" target=\"_parent\"><img src=\"https://colab.research.google.com/assets/colab-badge.svg\" alt=\"Open In Colab\"/></a>"
      ]
    },
    {
      "cell_type": "code",
      "execution_count": 1,
      "metadata": {
        "cellView": "form",
        "colab": {},
        "colab_type": "code",
        "id": "tTVkURopsAxH"
      },
      "outputs": [
        {
          "ename": "ModuleNotFoundError",
          "evalue": "No module named 'google'",
          "output_type": "error",
          "traceback": [
            "\u001b[0;31m---------------------------------------------------------------------------\u001b[0m",
            "\u001b[0;31mModuleNotFoundError\u001b[0m                       Traceback (most recent call last)",
            "\u001b[1;32m/workspaces/Skillshare-DL/Skillshare_DL_[KENWAY].ipynb Cell 2\u001b[0m line \u001b[0;36m2\n\u001b[1;32m      <a href='vscode-notebook-cell://codespaces%2Bsilver-giggle-r57w765pqqw2px94/workspaces/Skillshare-DL/Skillshare_DL_%5BKENWAY%5D.ipynb#W1sdnNjb2RlLXJlbW90ZQ%3D%3D?line=0'>1</a>\u001b[0m \u001b[39m#@markdown <h3>⬅ Run This Cell to  Mount Gdrive\u001b[39;00m\n\u001b[0;32m----> <a href='vscode-notebook-cell://codespaces%2Bsilver-giggle-r57w765pqqw2px94/workspaces/Skillshare-DL/Skillshare_DL_%5BKENWAY%5D.ipynb#W1sdnNjb2RlLXJlbW90ZQ%3D%3D?line=1'>2</a>\u001b[0m \u001b[39mfrom\u001b[39;00m \u001b[39mgoogle\u001b[39;00m\u001b[39m.\u001b[39;00m\u001b[39mcolab\u001b[39;00m \u001b[39mimport\u001b[39;00m drive\n\u001b[1;32m      <a href='vscode-notebook-cell://codespaces%2Bsilver-giggle-r57w765pqqw2px94/workspaces/Skillshare-DL/Skillshare_DL_%5BKENWAY%5D.ipynb#W1sdnNjb2RlLXJlbW90ZQ%3D%3D?line=2'>3</a>\u001b[0m drive\u001b[39m.\u001b[39mmount(\u001b[39m'\u001b[39m\u001b[39m/content/drive\u001b[39m\u001b[39m'\u001b[39m)\n",
            "\u001b[0;31mModuleNotFoundError\u001b[0m: No module named 'google'"
          ]
        }
      ],
      "source": [
        "#@markdown <h3>⬅ Run This Cell to  Mount Gdrive\n",
        "from google.colab import drive\n",
        "drive.mount('/content/drive')"
      ]
    },
    {
      "cell_type": "markdown",
      "metadata": {
        "colab_type": "text",
        "id": "oy6NiZ-mhVFX"
      },
      "source": [
        "# <img src='https://i.imgur.com/ZLv9ul7.jpg' height=\"60\" alt=\"RcloneLab\"/>"
      ]
    },
    {
      "cell_type": "code",
      "execution_count": null,
      "metadata": {
        "cellView": "form",
        "colab": {},
        "colab_type": "code",
        "id": "xunEYHutBEv_"
      },
      "outputs": [],
      "source": [
        "#@markdown <h3>⬅️ Run This Cell to Install Skillshare-DL Requirements</h3>\n",
        "import random, string, urllib.request, json, getpass, os, IPython, uuid\n",
        "import ipywidgets as widgets\n",
        "\n",
        "from IPython.display import HTML, clear_output\n",
        "\n",
        "loadingBtn = widgets.Button(description = \"Installing\",\n",
        "                          disabled = True,\n",
        "                          button_style = 'warning', # 'success', 'info', 'warning', 'danger' or '' \n",
        "                          tooltip = \"Installing\",\n",
        "                          icon = 'check')\n",
        "display(loadingBtn)\n",
        "\n",
        "if not os.path.exists(\"/opt/python3.7\"):\n",
        "  get_ipython().system_raw(\"rm -rf /content/sample_data/ && sudo apt update && sudo apt install software-properties-common\")\n",
        "  get_ipython().system_raw(\"sudo add-apt-repository ppa:deadsnakes/ppa\")\n",
        "  get_ipython().system_raw(\"sudo apt install python3.7\")\n",
        "  get_ipython().system_raw(\"sudo apt install python3-pip\")\n",
        "  get_ipython().system_raw(\"python3.7 -m pip install --upgrade pip setuptools wheel\")\n",
        "  get_ipython().system_raw(\"git clone https://github.com/purveshxd/Skillshare-DL.git /root/.Skillshare-DL\")\n",
        "  get_ipython().system_raw(\"rm -r /root/.Skillshare-DL/Skillshare_DL_[KENWAY].ipynb\")\n",
        "  clear_output()\n",
        "\n",
        "try:\n",
        "  get_ipython().system_raw(\"python3.7 -m pip -q install -r /root/.Skillshare-DL/requirements.txt\")\n",
        "  display(HTML(\"<center><h2 style=\\\"font-family:Trebuchet MS;color:#4f8bd6;\\\">Successfully Configured!</h2><br></center>\"))\n",
        "  \n",
        "except:\n",
        "  display(HTML(\"<center><h2 style=\\\"font-family:Trebuchet MS;color:#ff0000;\\\">Error Occured, Rerun the Cell!!</h2><br></center>\"))"
      ]
    },
    {
      "cell_type": "code",
      "execution_count": null,
      "metadata": {
        "cellView": "form",
        "colab": {},
        "colab_type": "code",
        "id": "GMcXn3WTIYfo"
      },
      "outputs": [],
      "source": [
        "#@markdown <h3>⬅️ Run this Cell to Download Skillshare Course</h3>\n",
        "Course_Link = \"\" #@param {type:\"string\"}\n",
        "!python3.7 /root/.Skillshare-DL/dl.py \"$Course_Link\""
      ]
    },
    {
      "cell_type": "code",
      "execution_count": null,
      "metadata": {
        "cellView": "form",
        "colab": {},
        "colab_type": "code",
        "id": "W4DvOJaqsGaj"
      },
      "outputs": [],
      "source": [
        "#@markdown <h3>⬅️ Run This Cell to  Move Downloaded Courses to Gdrive\n",
        "!mv /content/Skillshare \"/content/drive/My Drive/Skillshare-DL\""
      ]
    }
  ],
  "metadata": {
    "accelerator": "GPU",
    "colab": {
      "collapsed_sections": [],
      "include_colab_link": true,
      "name": "Skillshare-DL [KENWAY].ipynb",
      "provenance": [],
      "toc_visible": true
    },
    "kernelspec": {
      "display_name": "Python 3",
      "name": "python3"
    },
    "language_info": {
      "codemirror_mode": {
        "name": "ipython",
        "version": 3
      },
      "file_extension": ".py",
      "mimetype": "text/x-python",
      "name": "python",
      "nbconvert_exporter": "python",
      "pygments_lexer": "ipython3",
      "version": "3.10.13"
    }
  },
  "nbformat": 4,
  "nbformat_minor": 0
}
